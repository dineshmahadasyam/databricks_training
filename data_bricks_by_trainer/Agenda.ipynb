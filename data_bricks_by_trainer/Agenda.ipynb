{
 "cells": [
  {
   "cell_type": "code",
   "execution_count": 0,
   "metadata": {
    "application/vnd.databricks.v1+cell": {
     "cellMetadata": {},
     "inputWidgets": {},
     "nuid": "fadf7711-a6f1-4d44-8169-c7e49d6b611b",
     "showTitle": false,
     "tableResultSettingsMap": {},
     "title": ""
    }
   },
   "outputs": [],
   "source": [
    "streming, autoloader\n",
    "Pipeline \n",
    "\n",
    "unity catalog\n",
    "\n",
    "databricks sql\n",
    "\n",
    "DAB\n",
    "\n",
    "\n",
    "delta sharing\n",
    "OLTP/ postregSQL APP\n",
    "\n",
    "#databricks Free edition \n",
    "#Lakehouse Fedration\n",
    "#databricks certification\n"
   ]
  }
 ],
 "metadata": {
  "application/vnd.databricks.v1+notebook": {
   "computePreferences": null,
   "dashboards": [],
   "environmentMetadata": {
    "base_environment": "",
    "environment_version": "3"
   },
   "inputWidgetPreferences": null,
   "language": "python",
   "notebookMetadata": {
    "pythonIndentUnit": 4
   },
   "notebookName": "Agenda",
   "widgets": {}
  },
  "language_info": {
   "name": "python"
  }
 },
 "nbformat": 4,
 "nbformat_minor": 0
}
